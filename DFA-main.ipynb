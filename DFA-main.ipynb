{
 "cells": [
  {
   "cell_type": "code",
   "execution_count": null,
   "id": "a335a67f-5e35-4b62-b0ed-9caa478ba035",
   "metadata": {},
   "outputs": [],
   "source": [
    "def main():\n",
    "    # Read the data from the SAC file\n",
    "    file_path = \"/Users/jaffar/Desktop/example1.SAC\"\n",
    "    output_path = \"/Users/jaffar/Desktop/output.txt\"\n",
    "    st = obspy.read(file_path)\n",
    "    \n",
    "    # Concatenate the data from all traces in the stream into one continuous array\n",
    "    time_series_data = np.concatenate([trace.data for trace in st])\n",
    "\n",
    "    # Calculate the mean of the time series data\n",
    "    mean_value = np.mean(time_series_data)\n",
    "\n",
    "    # Calculate the signal profile: Cumulative sum of mean-subtracted data\n",
    "    signal_profile = np.cumsum(time_series_data - mean_value)\n",
    "    sampling_rate = st[0].stats.sampling_rate\n",
    "\n",
    "    # Calculate the number of samples per minute and define segment size\n",
    "    samples_per_minute = sampling_rate * 60\n",
    "    segment_size = int(samples_per_minute)  # Ensure segment_size is an integer\n",
    "\n",
    "    # Calculate DFA exponent and fractal dimensions\n",
    "    Hurst_exponent, fractal_dimensions = dfa_exponent(signal_profile, segment_size)\n",
    "\n",
    "    # Save results to the output file\n",
    "    with open(output_path, \"w\") as f:\n",
    "        f.write(\"Segment Index\\tHurst Exponent\\n\")\n",
    "        for i in range(len(Hurst_exponent)):\n",
    "            f.write(f\"{i}\\t{Hurst_exponent[i]:.3f}\\n\")\n",
    "\n",
    "    print(f\"Results saved to {output_path}\")\n",
    "\n",
    "\n",
    "\n",
    "if __name__ == \"__main__\":\n",
    "    main()\n"
   ]
  }
 ],
 "metadata": {
  "kernelspec": {
   "display_name": "Python 3 (ipykernel)",
   "language": "python",
   "name": "python3"
  },
  "language_info": {
   "codemirror_mode": {
    "name": "ipython",
    "version": 3
   },
   "file_extension": ".py",
   "mimetype": "text/x-python",
   "name": "python",
   "nbconvert_exporter": "python",
   "pygments_lexer": "ipython3",
   "version": "3.9.13"
  }
 },
 "nbformat": 4,
 "nbformat_minor": 5
}
