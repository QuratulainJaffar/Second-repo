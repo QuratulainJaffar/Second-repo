{
 "cells": [
  {
   "cell_type": "code",
   "execution_count": null,
   "id": "3b2dffc7-1805-4df7-935c-105b8abc3232",
   "metadata": {},
   "outputs": [],
   "source": [
    "import numpy as np\n",
    "\n",
    "\n",
    "def detrend_segment(segment):\n",
    "    ### detrending the each segment using linear regression\n",
    "    x = np.arange(len(segment))\n",
    "    slope, intercept = np.polyfit(x, segment, 1)\n",
    "    detrended_segment = segment - (slope * x + intercept)\n",
    "    return detrended_segment\n",
    "\n",
    "def dfa_exponent(signal_profile, segment_size):\n",
    "    # Calculate the number of segments\n",
    "    n_segments = len(signal_profile) // segment_size\n",
    "    segments = signal_profile[:n_segments * segment_size].reshape(n_segments, segment_size)\n",
    "\n",
    "    # Lists to store the Hurst exponents and fluctuations\n",
    "    Hurst_exponent = []\n",
    "    fractal_dimensions = []\n",
    "    \n",
    "    # Iterate over each segment to calculate the fluctuation function\n",
    "    for i in range(n_segments):\n",
    "        segment_data = segments[i]\n",
    "        \n",
    "        # List to store fluctuation function for multiple segment sizes\n",
    "        fluctuation_function = []\n",
    "        \n",
    "        # Define the range of segment sizes to compute the fluctuation function\n",
    "        min_segment_size = 6 # A reasonable lower bound for segment size\n",
    "        max_segment_size = len(segment_data)\n",
    "        segment_sizes = 2 ** np.arange(int(np.log2(min_segment_size)), int(np.log2(max_segment_size)) + 1)\n",
    "        \n",
    "        for segment_size in segment_sizes:\n",
    "            segment_subsets = segment_data[:segment_size * (len(segment_data) // segment_size)]\n",
    "            reshaped_segments = segment_subsets.reshape(len(segment_subsets) // segment_size, segment_size)\n",
    "            detrended_segments = np.apply_along_axis(detrend_segment, 1, reshaped_segments)\n",
    "            segment_rms = np.sqrt(np.mean(detrended_segments ** 2, axis=1))\n",
    "            fluctuation_function.append(np.mean(segment_rms) / len(segment_subsets))\n",
    "\n",
    "        m, b = np.polyfit(np.log(segment_sizes), np.log(fluctuation_function), 1)\n",
    "        segment_alpha = m / 2\n",
    "        Hurst_exponent.append(segment_alpha)\n",
    "\n",
    "        fractal_dimension = 2 - segment_alpha\n",
    "        fractal_dimensions.append(fractal_dimension)\n",
    "\n",
    "    return np.array(Hurst_exponent), np.array(fractal_dimensions)"
   ]
  }
 ],
 "metadata": {
  "kernelspec": {
   "display_name": "Python 3 (ipykernel)",
   "language": "python",
   "name": "python3"
  },
  "language_info": {
   "codemirror_mode": {
    "name": "ipython",
    "version": 3
   },
   "file_extension": ".py",
   "mimetype": "text/x-python",
   "name": "python",
   "nbconvert_exporter": "python",
   "pygments_lexer": "ipython3",
   "version": "3.9.13"
  }
 },
 "nbformat": 4,
 "nbformat_minor": 5
}
